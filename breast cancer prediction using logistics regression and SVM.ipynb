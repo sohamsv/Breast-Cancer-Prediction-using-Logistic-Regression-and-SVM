{
 "cells": [
  {
   "cell_type": "code",
   "execution_count": 1,
   "id": "5159f382",
   "metadata": {},
   "outputs": [],
   "source": [
    "from sklearn.datasets import load_breast_cancer\n",
    "from sklearn import svm\n",
    "from sklearn.linear_model import LogisticRegression\n",
    "from sklearn.metrics import roc_auc_score\n",
    "from sklearn.model_selection import train_test_split\n",
    "from sklearn import metrics\n",
    "from matplotlib import pyplot as plt"
   ]
  },
  {
   "cell_type": "code",
   "execution_count": 2,
   "id": "c99f3d9e",
   "metadata": {},
   "outputs": [],
   "source": [
    "X, y = load_breast_cancer(return_X_y=True)\n",
    "#print(X,y)\n",
    "X_train, X_test, y_train, y_test = train_test_split(X, y, test_size=0.50, random_state=1)"
   ]
  },
  {
   "cell_type": "code",
   "execution_count": 3,
   "id": "18d4e081",
   "metadata": {},
   "outputs": [],
   "source": [
    "model = svm.SVC(probability= True)\n",
    "clf = model.fit(X_train, y_train)"
   ]
  },
  {
   "cell_type": "code",
   "execution_count": 4,
   "id": "c842a74a",
   "metadata": {},
   "outputs": [
    {
     "name": "stderr",
     "output_type": "stream",
     "text": [
      "c:\\users\\soham\\appdata\\local\\programs\\python\\python39\\lib\\site-packages\\sklearn\\linear_model\\_logistic.py:458: ConvergenceWarning: lbfgs failed to converge (status=1):\n",
      "STOP: TOTAL NO. of ITERATIONS REACHED LIMIT.\n",
      "\n",
      "Increase the number of iterations (max_iter) or scale the data as shown in:\n",
      "    https://scikit-learn.org/stable/modules/preprocessing.html\n",
      "Please also refer to the documentation for alternative solver options:\n",
      "    https://scikit-learn.org/stable/modules/linear_model.html#logistic-regression\n",
      "  n_iter_i = _check_optimize_result(\n"
     ]
    }
   ],
   "source": [
    "model2 = LogisticRegression()\n",
    "clf2 = model2.fit(X_train,y_train)"
   ]
  },
  {
   "cell_type": "code",
   "execution_count": 5,
   "id": "68fb1359",
   "metadata": {},
   "outputs": [],
   "source": [
    "pred = clf.predict_proba(X)[:, 1]\n",
    "pred2 = clf2.predict_proba(X)[:, 1]"
   ]
  },
  {
   "cell_type": "code",
   "execution_count": 6,
   "id": "3394d28f",
   "metadata": {},
   "outputs": [],
   "source": [
    "ROC_score = roc_auc_score(y, pred)\n",
    "ROC_score2 = roc_auc_score(y, pred2)"
   ]
  },
  {
   "cell_type": "code",
   "execution_count": 7,
   "id": "7c113d8b",
   "metadata": {},
   "outputs": [],
   "source": [
    "fpr, tpr, thresholds = metrics.roc_curve(y, pred) # FPR = false positive rate, TPR = True positive rate\n",
    "fpr2, tpr2, thresholds2 = metrics.roc_curve(y, pred2) # FPR = false positive rate, TPR = True positive rate\n"
   ]
  },
  {
   "cell_type": "code",
   "execution_count": 8,
   "id": "b6dc1fae",
   "metadata": {},
   "outputs": [],
   "source": [
    "roc_auc = metrics.auc(fpr, tpr)\n",
    "roc_auc2 = metrics.auc(fpr2, tpr2)"
   ]
  },
  {
   "cell_type": "code",
   "execution_count": 9,
   "id": "c7f67960",
   "metadata": {},
   "outputs": [
    {
     "data": {
      "image/png": "[encoded data removed]",
      "text/plain": [
       "<Figure size 432x288 with 1 Axes>"
      ]
     },
     "metadata": {
      "needs_background": "light"
     },
     "output_type": "display_data"
    }
   ],
   "source": [
    "plt.plot(fpr,tpr,'red',label = 'Support Vector Classifier AUC = ' + str(roc_auc) )\n",
    "plt.plot(fpr2,tpr2,'green',label = 'Logistic Regression  AUC = ' + str(roc_auc2))\n",
    "plt.legend()\n",
    "plt.show ()"
   ]
  },
  {
   "cell_type": "code",
   "execution_count": 10,
   "id": "bda6b2cd",
   "metadata": {},
   "outputs": [
    {
     "name": "stdout",
     "output_type": "stream",
     "text": [
      "ROC Score (SVC)  =  0.9704693198033931\n",
      "ROC Score (logistic Reg)  =  0.9763754558427145\n",
      "AUC (SVC) =  0.9704693198033931\n",
      "AUC (Logistic Reg) =  0.9763754558427145\n"
     ]
    }
   ],
   "source": [
    "print('ROC Score (SVC)  = ', ROC_score)\n",
    "print('ROC Score (logistic Reg)  = ', ROC_score2)\n",
    "\n",
    "print('AUC (SVC) = ', roc_auc)\n",
    "print('AUC (Logistic Reg) = ', roc_auc2)"
   ]
  }
 ],
 "metadata": {
  "kernelspec": {
   "display_name": "Python 3",
   "language": "python",
   "name": "python3"
  },
  "language_info": {
   "codemirror_mode": {
    "name": "ipython",
    "version": 3
   },
   "file_extension": ".py",
   "mimetype": "text/x-python",
   "name": "python",
   "nbconvert_exporter": "python",
   "pygments_lexer": "ipython3",
   "version": "3.9.4"
  }
 },
 "nbformat": 4,
 "nbformat_minor": 5
}
